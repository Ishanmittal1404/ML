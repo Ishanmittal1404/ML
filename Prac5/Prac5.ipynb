{
 "cells": [
  {
   "cell_type": "markdown",
   "id": "b759cd3c",
   "metadata": {},
   "source": [
    "#### Prac 5: Implement K means on 500 random points and create 15 clusters for the same."
   ]
  },
  {
   "cell_type": "code",
   "execution_count": 1,
   "id": "49cd3092",
   "metadata": {},
   "outputs": [],
   "source": [
    "import pandas as pd\n",
    "import random\n",
    "import numpy as np"
   ]
  },
  {
   "cell_type": "markdown",
   "id": "299c4218",
   "metadata": {},
   "source": [
    "###### To generate Random Values: Run Only once "
   ]
  },
  {
   "cell_type": "code",
   "execution_count": 2,
   "id": "9ab8785a",
   "metadata": {
    "scrolled": true
   },
   "outputs": [],
   "source": [
    "xp = []\n",
    "yp = []\n",
    "for i in range(500):\n",
    "    x = round(random.uniform(1,15),2)\n",
    "    y = round(random.uniform(25,40),2)\n",
    "    xp.append(x)\n",
    "    yp.append(y)\n",
    "\n",
    "df = pd.DataFrame()\n",
    "df['p1'] = xp\n",
    "df['p2'] = yp\n",
    "\n",
    "df\n",
    "df.to_csv('points.csv')"
   ]
  },
  {
   "cell_type": "code",
   "execution_count": 3,
   "id": "e7bf12b4",
   "metadata": {},
   "outputs": [],
   "source": [
    "point = []\n",
    "for i in range(15):\n",
    "    point.append(random.randint(0,499))\n",
    "df1 = pd.DataFrame(point)\n",
    "df1.to_csv('point.csv')"
   ]
  },
  {
   "cell_type": "markdown",
   "id": "89c71293",
   "metadata": {},
   "source": [
    "###### Main Code "
   ]
  },
  {
   "cell_type": "code",
   "execution_count": 4,
   "id": "53a745a8",
   "metadata": {},
   "outputs": [
    {
     "data": {
      "text/html": [
       "<div>\n",
       "<style scoped>\n",
       "    .dataframe tbody tr th:only-of-type {\n",
       "        vertical-align: middle;\n",
       "    }\n",
       "\n",
       "    .dataframe tbody tr th {\n",
       "        vertical-align: top;\n",
       "    }\n",
       "\n",
       "    .dataframe thead th {\n",
       "        text-align: right;\n",
       "    }\n",
       "</style>\n",
       "<table border=\"1\" class=\"dataframe\">\n",
       "  <thead>\n",
       "    <tr style=\"text-align: right;\">\n",
       "      <th></th>\n",
       "      <th>Unnamed: 0</th>\n",
       "      <th>p1</th>\n",
       "      <th>p2</th>\n",
       "    </tr>\n",
       "  </thead>\n",
       "  <tbody>\n",
       "    <tr>\n",
       "      <th>0</th>\n",
       "      <td>0</td>\n",
       "      <td>2.40</td>\n",
       "      <td>39.79</td>\n",
       "    </tr>\n",
       "    <tr>\n",
       "      <th>1</th>\n",
       "      <td>1</td>\n",
       "      <td>14.27</td>\n",
       "      <td>38.68</td>\n",
       "    </tr>\n",
       "    <tr>\n",
       "      <th>2</th>\n",
       "      <td>2</td>\n",
       "      <td>10.93</td>\n",
       "      <td>37.87</td>\n",
       "    </tr>\n",
       "    <tr>\n",
       "      <th>3</th>\n",
       "      <td>3</td>\n",
       "      <td>8.89</td>\n",
       "      <td>35.81</td>\n",
       "    </tr>\n",
       "    <tr>\n",
       "      <th>4</th>\n",
       "      <td>4</td>\n",
       "      <td>14.02</td>\n",
       "      <td>33.56</td>\n",
       "    </tr>\n",
       "    <tr>\n",
       "      <th>...</th>\n",
       "      <td>...</td>\n",
       "      <td>...</td>\n",
       "      <td>...</td>\n",
       "    </tr>\n",
       "    <tr>\n",
       "      <th>495</th>\n",
       "      <td>495</td>\n",
       "      <td>14.34</td>\n",
       "      <td>34.37</td>\n",
       "    </tr>\n",
       "    <tr>\n",
       "      <th>496</th>\n",
       "      <td>496</td>\n",
       "      <td>3.02</td>\n",
       "      <td>36.75</td>\n",
       "    </tr>\n",
       "    <tr>\n",
       "      <th>497</th>\n",
       "      <td>497</td>\n",
       "      <td>12.51</td>\n",
       "      <td>27.51</td>\n",
       "    </tr>\n",
       "    <tr>\n",
       "      <th>498</th>\n",
       "      <td>498</td>\n",
       "      <td>12.07</td>\n",
       "      <td>37.11</td>\n",
       "    </tr>\n",
       "    <tr>\n",
       "      <th>499</th>\n",
       "      <td>499</td>\n",
       "      <td>11.67</td>\n",
       "      <td>35.06</td>\n",
       "    </tr>\n",
       "  </tbody>\n",
       "</table>\n",
       "<p>500 rows × 3 columns</p>\n",
       "</div>"
      ],
      "text/plain": [
       "     Unnamed: 0     p1     p2\n",
       "0             0   2.40  39.79\n",
       "1             1  14.27  38.68\n",
       "2             2  10.93  37.87\n",
       "3             3   8.89  35.81\n",
       "4             4  14.02  33.56\n",
       "..          ...    ...    ...\n",
       "495         495  14.34  34.37\n",
       "496         496   3.02  36.75\n",
       "497         497  12.51  27.51\n",
       "498         498  12.07  37.11\n",
       "499         499  11.67  35.06\n",
       "\n",
       "[500 rows x 3 columns]"
      ]
     },
     "execution_count": 4,
     "metadata": {},
     "output_type": "execute_result"
    }
   ],
   "source": [
    "df = pd.read_csv('points.csv')\n",
    "df"
   ]
  },
  {
   "cell_type": "code",
   "execution_count": 5,
   "id": "05280a31",
   "metadata": {},
   "outputs": [
    {
     "data": {
      "text/plain": [
       "[47, 291, 44, 492, 205, 79, 286, 305, 296, 197, 203, 212, 450, 409, 462]"
      ]
     },
     "execution_count": 5,
     "metadata": {},
     "output_type": "execute_result"
    }
   ],
   "source": [
    "df1 = pd.read_csv('point.csv')\n",
    "point = list(df1['0'])\n",
    "point"
   ]
  },
  {
   "cell_type": "code",
   "execution_count": 6,
   "id": "fa8ef4f4",
   "metadata": {
    "scrolled": true
   },
   "outputs": [
    {
     "name": "stdout",
     "output_type": "stream",
     "text": [
      "Initial Cluster\n"
     ]
    },
    {
     "data": {
      "text/plain": [
       "{0: [12.51, 35.13],\n",
       " 1: [5.99, 30.27],\n",
       " 2: [13.26, 33.72],\n",
       " 3: [14.93, 26.79],\n",
       " 4: [7.71, 26.3],\n",
       " 5: [14.34, 38.91],\n",
       " 6: [1.51, 34.64],\n",
       " 7: [6.27, 29.65],\n",
       " 8: [7.52, 26.35],\n",
       " 9: [4.22, 31.33],\n",
       " 10: [8.85, 37.42],\n",
       " 11: [6.88, 26.03],\n",
       " 12: [7.61, 33.1],\n",
       " 13: [3.8, 29.64],\n",
       " 14: [1.98, 31.22]}"
      ]
     },
     "execution_count": 6,
     "metadata": {},
     "output_type": "execute_result"
    }
   ],
   "source": [
    "cluster = {}\n",
    "for j in range(len(point)):\n",
    "    cluster[j] = [df['p1'][point[j]],df['p2'][point[j]]]\n",
    "print('Initial Cluster')\n",
    "cluster"
   ]
  },
  {
   "cell_type": "code",
   "execution_count": 7,
   "id": "def7fee3",
   "metadata": {},
   "outputs": [],
   "source": [
    "def update_cluster(cluster,df):\n",
    "    form = {0 : [],1 : [],2 : [],3 : [],4 : [],5 : [],6 : [],7 : [],8 : [],9 : [],10 : [],11 : [],12 : [],13 : [],14 : [],          }\n",
    "    for i in range(len(df)):\n",
    "        cpoint = []\n",
    "    # Create CLuster\n",
    "        for j in cluster:\n",
    "            point1 = np.array((df['p1'][i],df['p2'][i]))\n",
    "            point2 = np.array((cluster[j][0],cluster[j][1]))\n",
    "            dist = np.linalg.norm(point1 - point2)\n",
    "            cpoint.append(dist)\n",
    "        p = min(cpoint)\n",
    "        val = cpoint.index(p)\n",
    "        form[int(val)].append(i) \n",
    "    \n",
    "    # Update Cluster Values \n",
    "    for i in form:\n",
    "        c1 = 0\n",
    "        c2 = 0\n",
    "        for j in form[i]:\n",
    "            c1 += df['p1'][j]\n",
    "            c2 += df['p2'][j]\n",
    "        newp1 = c1/len(form[i])\n",
    "        newp2 = c2/len(form[i])\n",
    "        cluster[i][0] = newp1\n",
    "        cluster[i][1] = newp2\n",
    "    return cluster,form"
   ]
  },
  {
   "cell_type": "code",
   "execution_count": 8,
   "id": "74dbd9f3",
   "metadata": {},
   "outputs": [
    {
     "name": "stdout",
     "output_type": "stream",
     "text": [
      "Total iterations required:  14\n"
     ]
    }
   ],
   "source": [
    "old_cluster = {}\n",
    "old_form = {}\n",
    "count = 0\n",
    "flag = True\n",
    "\n",
    "while flag == True:\n",
    "    cluster1,form1 = update_cluster(cluster, df)\n",
    "    cluster = cluster1\n",
    "    count += 1\n",
    "    if old_form == form1:\n",
    "        break\n",
    "    else:\n",
    "        old_form = form1\n",
    "        \n",
    "print('Total iterations required: ',count)"
   ]
  },
  {
   "cell_type": "code",
   "execution_count": 9,
   "id": "191b53bd",
   "metadata": {},
   "outputs": [
    {
     "data": {
      "text/plain": [
       "{0: [13.13325581395349, 34.718837209302315],\n",
       " 1: [6.06911111111111, 30.680000000000003],\n",
       " 2: [13.235789473684212, 31.25315789473684],\n",
       " 3: [13.556799999999999, 27.78079999999999],\n",
       " 4: [10.924583333333333, 26.9475],\n",
       " 5: [12.427380952380956, 38.05309523809525],\n",
       " 6: [3.1651282051282053, 38.23461538461539],\n",
       " 7: [9.639736842105263, 30.677368421052627],\n",
       " 8: [7.778064516129031, 26.807096774193543],\n",
       " 9: [3.353333333333335, 34.265641025641024],\n",
       " 10: [7.8275, 38.2628125],\n",
       " 11: [5.336999999999999, 27.018],\n",
       " 12: [7.420526315789476, 34.49842105263158],\n",
       " 13: [2.662083333333333, 27.785833333333333],\n",
       " 14: [2.192727272727273, 31.469999999999995]}"
      ]
     },
     "execution_count": 9,
     "metadata": {},
     "output_type": "execute_result"
    }
   ],
   "source": [
    "cluster"
   ]
  },
  {
   "cell_type": "code",
   "execution_count": 10,
   "id": "55ae5247",
   "metadata": {},
   "outputs": [
    {
     "name": "stdout",
     "output_type": "stream",
     "text": [
      "Cluster Number and the points present in them:\n",
      "\n",
      "\n",
      "Custer: 0 \n",
      "Points: [4, 44, 47, 48, 74, 76, 88, 127, 130, 132, 146, 158, 162, 170, 206, 211, 217, 242, 249, 255, 268, 278, 280, 282, 288, 298, 306, 316, 324, 335, 361, 369, 378, 385, 407, 427, 441, 472, 475, 487, 490, 495, 499]\n",
      "\n",
      "\n",
      "Custer: 1 \n",
      "Points: [7, 31, 34, 35, 43, 46, 64, 107, 133, 151, 155, 173, 174, 176, 183, 197, 223, 230, 236, 238, 245, 262, 272, 285, 291, 303, 304, 305, 314, 318, 327, 345, 352, 368, 388, 396, 432, 435, 436, 443, 444, 456, 473, 484, 493]\n",
      "\n",
      "\n",
      "Custer: 2 \n",
      "Points: [11, 14, 55, 66, 67, 109, 119, 131, 134, 136, 145, 200, 202, 214, 221, 224, 227, 237, 244, 273, 281, 283, 289, 299, 315, 326, 343, 379, 394, 395, 410, 416, 421, 433, 439, 440, 458, 468]\n",
      "\n",
      "\n",
      "Custer: 3 \n",
      "Points: [5, 51, 72, 82, 83, 108, 125, 141, 178, 191, 207, 213, 241, 251, 258, 312, 313, 330, 340, 376, 377, 399, 488, 492, 497]\n",
      "\n",
      "\n",
      "Custer: 4 \n",
      "Points: [41, 63, 90, 137, 138, 156, 160, 204, 216, 229, 246, 276, 309, 310, 319, 325, 344, 348, 360, 417, 423, 445, 451, 478]\n",
      "\n",
      "\n",
      "Custer: 5 \n",
      "Points: [1, 2, 10, 29, 30, 42, 52, 58, 70, 79, 87, 89, 97, 98, 99, 111, 116, 139, 142, 150, 152, 154, 193, 208, 215, 252, 293, 317, 328, 333, 356, 386, 397, 406, 411, 430, 449, 470, 476, 479, 481, 498]\n",
      "\n",
      "\n",
      "Custer: 6 \n",
      "Points: [0, 17, 22, 27, 36, 60, 73, 78, 85, 92, 100, 104, 114, 129, 149, 165, 168, 172, 182, 188, 247, 248, 253, 254, 275, 292, 295, 334, 358, 383, 408, 428, 437, 446, 463, 471, 485, 489, 496]\n",
      "\n",
      "\n",
      "Custer: 7 \n",
      "Points: [12, 18, 33, 62, 80, 81, 86, 113, 118, 122, 140, 144, 175, 257, 261, 297, 329, 337, 347, 355, 362, 373, 390, 391, 392, 412, 415, 420, 422, 426, 429, 447, 454, 459, 465, 477, 483, 494]\n",
      "\n",
      "\n",
      "Custer: 8 \n",
      "Points: [15, 19, 26, 32, 40, 94, 96, 112, 126, 128, 179, 201, 205, 212, 222, 233, 239, 277, 296, 300, 308, 311, 342, 350, 363, 370, 372, 384, 424, 469, 482]\n",
      "\n",
      "\n",
      "Custer: 9 \n",
      "Points: [6, 9, 20, 24, 37, 38, 54, 75, 91, 103, 110, 123, 143, 153, 164, 166, 171, 181, 187, 192, 194, 196, 218, 240, 265, 271, 279, 286, 290, 307, 336, 338, 341, 381, 382, 404, 413, 461, 480]\n",
      "\n",
      "\n",
      "Custer: 10 \n",
      "Points: [68, 105, 117, 157, 161, 167, 184, 185, 186, 195, 199, 203, 225, 234, 266, 269, 270, 274, 294, 302, 346, 353, 354, 359, 371, 393, 402, 419, 452, 453, 457, 474]\n",
      "\n",
      "\n",
      "Custer: 11 \n",
      "Points: [13, 16, 21, 23, 45, 124, 219, 243, 256, 287, 301, 323, 332, 367, 389, 405, 455, 466, 467, 491]\n",
      "\n",
      "\n",
      "Custer: 12 \n",
      "Points: [3, 28, 39, 56, 59, 61, 69, 93, 95, 135, 148, 163, 169, 177, 190, 235, 259, 267, 284, 321, 349, 357, 364, 365, 374, 380, 387, 398, 400, 401, 425, 431, 434, 438, 450, 460, 464, 486]\n",
      "\n",
      "\n",
      "Custer: 13 \n",
      "Points: [49, 50, 57, 77, 84, 102, 106, 115, 189, 198, 209, 220, 226, 260, 263, 264, 320, 331, 339, 351, 375, 403, 409, 414]\n",
      "\n",
      "\n",
      "Custer: 14 \n",
      "Points: [8, 25, 53, 65, 71, 101, 120, 121, 147, 159, 180, 210, 228, 231, 232, 250, 322, 366, 418, 442, 448, 462]\n",
      "\n",
      "\n"
     ]
    }
   ],
   "source": [
    "print('Cluster Number and the points present in them:\\n\\n')\n",
    "for i in range(len(form1)):\n",
    "    print('Custer:',i,'\\nPoints:',form1[i])\n",
    "    print('\\n')"
   ]
  }
 ],
 "metadata": {
  "kernelspec": {
   "display_name": "Python 3 (ipykernel)",
   "language": "python",
   "name": "python3"
  },
  "language_info": {
   "codemirror_mode": {
    "name": "ipython",
    "version": 3
   },
   "file_extension": ".py",
   "mimetype": "text/x-python",
   "name": "python",
   "nbconvert_exporter": "python",
   "pygments_lexer": "ipython3",
   "version": "3.9.12"
  }
 },
 "nbformat": 4,
 "nbformat_minor": 5
}
