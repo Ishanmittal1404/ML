{
 "cells": [
  {
   "cell_type": "markdown",
   "metadata": {
    "id": "iINZ9KtWHBo2"
   },
   "source": [
    "#### Prac4: Radial Basis Function"
   ]
  },
  {
   "cell_type": "code",
   "execution_count": 1,
   "metadata": {
    "id": "2cWENNuTH1UB"
   },
   "outputs": [],
   "source": [
    "import math\n",
    "from sympy import symbols, Eq, solve\n",
    "x1 = [0,0,1,1]\n",
    "x2 = [0,1,0,1]\n",
    "t = [0,1,1,0]"
   ]
  },
  {
   "cell_type": "code",
   "execution_count": 2,
   "metadata": {
    "id": "iJEN8Uw1qjlS"
   },
   "outputs": [],
   "source": [
    "def getDistance(x1,y1,x2,y2):\n",
    "  a = (x2-x1)**2\n",
    "  b = (y2-y1)**2\n",
    "  c = math.sqrt(a+b)\n",
    "  return c"
   ]
  },
  {
   "cell_type": "code",
   "execution_count": 3,
   "metadata": {
    "id": "z6cW1sjp_7u_"
   },
   "outputs": [],
   "source": [
    "def getGaussianFunction(centers):\n",
    "  f=[]\n",
    "  for i in range(0,len(centers)):\n",
    "    m=[]\n",
    "    for j in range(0,len(centers)):\n",
    "      m.append((math.e)**(-1*(getDistance(centers[i][0],centers[i][1],x1[j],x2[j])**2)/2))\n",
    "    f.append(m)\n",
    "  return f\n"
   ]
  },
  {
   "cell_type": "code",
   "execution_count": 4,
   "metadata": {
    "colab": {
     "base_uri": "https://localhost:8080/"
    },
    "id": "6dRe01xxrCnl",
    "outputId": "abb73a07-f5d0-4f41-e759-bbefeaf52910"
   },
   "outputs": [
    {
     "data": {
      "text/plain": [
       "[[1.0, 0.6065306597126334, 0.6065306597126334, 0.3678794411714423],\n",
       " [0.6065306597126334, 1.0, 0.3678794411714423, 0.6065306597126334],\n",
       " [0.6065306597126334, 0.3678794411714423, 1.0, 0.6065306597126334],\n",
       " [0.3678794411714423, 0.6065306597126334, 0.6065306597126334, 1.0]]"
      ]
     },
     "execution_count": 4,
     "metadata": {},
     "output_type": "execute_result"
    }
   ],
   "source": [
    "centers = [[0,0],[0,1],[1,0],[1,1]]\n",
    "gauss = getGaussianFunction(centers)\n",
    "gauss"
   ]
  },
  {
   "cell_type": "code",
   "execution_count": 5,
   "metadata": {
    "colab": {
     "base_uri": "https://localhost:8080/"
    },
    "id": "YZgb_sbnKw4z",
    "outputId": "7e9f7ef0-e484-4876-dca3-46da21d7c955"
   },
   "outputs": [
    {
     "name": "stdout",
     "output_type": "stream",
     "text": [
      "{w1: -3.03586827628464, w2: 3.42332389528490, w3: 3.42332389528490, w4: -3.03586827628464}\n"
     ]
    }
   ],
   "source": [
    "w1,w2,w3,w4 = symbols('w1,w2,w3,w4')\n",
    "eq1 = Eq((gauss[0][0]*w1 + gauss[1][0]*w2 + gauss[2][0]*w3 + gauss[3][0]*w4),0)\n",
    "eq2 = Eq((gauss[0][1]*w1 + gauss[1][1]*w2 + gauss[2][1]*w3 + gauss[3][1]*w4),1)\n",
    "eq3 = Eq((gauss[0][2]*w1 + gauss[1][2]*w2 + gauss[2][2]*w3 + gauss[3][2]*w4),1)\n",
    "eq4 = Eq((gauss[0][3]*w1 + gauss[1][3]*w2 + gauss[2][3]*w3 + gauss[3][3]*w4),0)\n",
    "print(solve((eq1,eq2,eq3,eq4),(w1,w2,w3,w4)))\n"
   ]
  },
  {
   "cell_type": "code",
   "execution_count": null,
   "metadata": {
    "id": "LPLOMMIVIx1j"
   },
   "outputs": [],
   "source": []
  }
 ],
 "metadata": {
  "colab": {
   "provenance": []
  },
  "kernelspec": {
   "display_name": "Python 3 (ipykernel)",
   "language": "python",
   "name": "python3"
  },
  "language_info": {
   "codemirror_mode": {
    "name": "ipython",
    "version": 3
   },
   "file_extension": ".py",
   "mimetype": "text/x-python",
   "name": "python",
   "nbconvert_exporter": "python",
   "pygments_lexer": "ipython3",
   "version": "3.9.12"
  }
 },
 "nbformat": 4,
 "nbformat_minor": 1
}
