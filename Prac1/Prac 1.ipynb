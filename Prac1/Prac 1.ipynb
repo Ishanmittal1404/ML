{
 "cells": [
  {
   "cell_type": "markdown",
   "id": "b6c499b0",
   "metadata": {},
   "source": [
    "#### Prac 1: Implement Find-S and Candidate Elimination Algorithms"
   ]
  },
  {
   "cell_type": "code",
   "execution_count": 1,
   "id": "ebc845a9",
   "metadata": {},
   "outputs": [],
   "source": [
    "import pandas as pd"
   ]
  },
  {
   "cell_type": "code",
   "execution_count": 2,
   "id": "3a479fe3",
   "metadata": {},
   "outputs": [
    {
     "data": {
      "text/html": [
       "<div>\n",
       "<style scoped>\n",
       "    .dataframe tbody tr th:only-of-type {\n",
       "        vertical-align: middle;\n",
       "    }\n",
       "\n",
       "    .dataframe tbody tr th {\n",
       "        vertical-align: top;\n",
       "    }\n",
       "\n",
       "    .dataframe thead th {\n",
       "        text-align: right;\n",
       "    }\n",
       "</style>\n",
       "<table border=\"1\" class=\"dataframe\">\n",
       "  <thead>\n",
       "    <tr style=\"text-align: right;\">\n",
       "      <th></th>\n",
       "      <th>Sky</th>\n",
       "      <th>AirTemp</th>\n",
       "      <th>Humidity</th>\n",
       "      <th>Wind</th>\n",
       "      <th>Water</th>\n",
       "      <th>Forecast</th>\n",
       "      <th>EnjoySport</th>\n",
       "    </tr>\n",
       "  </thead>\n",
       "  <tbody>\n",
       "    <tr>\n",
       "      <th>0</th>\n",
       "      <td>Sunny</td>\n",
       "      <td>Warm</td>\n",
       "      <td>Normal</td>\n",
       "      <td>Strong</td>\n",
       "      <td>Warm</td>\n",
       "      <td>Same</td>\n",
       "      <td>Yes</td>\n",
       "    </tr>\n",
       "    <tr>\n",
       "      <th>1</th>\n",
       "      <td>Sunny</td>\n",
       "      <td>Warm</td>\n",
       "      <td>High</td>\n",
       "      <td>Strong</td>\n",
       "      <td>Warm</td>\n",
       "      <td>Same</td>\n",
       "      <td>Yes</td>\n",
       "    </tr>\n",
       "    <tr>\n",
       "      <th>2</th>\n",
       "      <td>Rainy</td>\n",
       "      <td>Cold</td>\n",
       "      <td>High</td>\n",
       "      <td>Strong</td>\n",
       "      <td>Warm</td>\n",
       "      <td>Change</td>\n",
       "      <td>No</td>\n",
       "    </tr>\n",
       "    <tr>\n",
       "      <th>3</th>\n",
       "      <td>Sunny</td>\n",
       "      <td>Warm</td>\n",
       "      <td>High</td>\n",
       "      <td>Strong</td>\n",
       "      <td>Cool</td>\n",
       "      <td>Change</td>\n",
       "      <td>Yes</td>\n",
       "    </tr>\n",
       "  </tbody>\n",
       "</table>\n",
       "</div>"
      ],
      "text/plain": [
       "     Sky AirTemp Humidity    Wind Water  Forecast EnjoySport\n",
       "0  Sunny    Warm   Normal  Strong  Warm      Same        Yes\n",
       "1  Sunny    Warm     High  Strong  Warm      Same        Yes\n",
       "2  Rainy    Cold     High  Strong  Warm    Change         No\n",
       "3  Sunny    Warm     High  Strong   Cool   Change        Yes"
      ]
     },
     "execution_count": 2,
     "metadata": {},
     "output_type": "execute_result"
    }
   ],
   "source": [
    "df = pd.read_csv('Prac1_EnjoySport.csv')\n",
    "data_values = df.values.tolist()\n",
    "df"
   ]
  },
  {
   "cell_type": "code",
   "execution_count": 3,
   "id": "08a6f638",
   "metadata": {},
   "outputs": [],
   "source": [
    "final = []\n",
    "for i in range(len(data_values)):\n",
    "    if data_values[i][-1] != 'No':\n",
    "        final.append(data_values[i])"
   ]
  },
  {
   "cell_type": "code",
   "execution_count": 4,
   "id": "b611de22",
   "metadata": {},
   "outputs": [],
   "source": [
    "final_hypo = data_values[0]"
   ]
  },
  {
   "cell_type": "code",
   "execution_count": 5,
   "id": "f66c7aba",
   "metadata": {},
   "outputs": [
    {
     "data": {
      "text/plain": [
       "[['Sunny', 'Warm', 'Normal', 'Strong', 'Warm ', 'Same', 'Yes'],\n",
       " ['Sunny', 'Warm', 'High', 'Strong', 'Warm ', 'Same', 'Yes'],\n",
       " ['Sunny', 'Warm', 'High', 'Strong', 'Cool', 'Change', 'Yes']]"
      ]
     },
     "execution_count": 5,
     "metadata": {},
     "output_type": "execute_result"
    }
   ],
   "source": [
    "final"
   ]
  },
  {
   "cell_type": "code",
   "execution_count": 6,
   "id": "56050882",
   "metadata": {},
   "outputs": [
    {
     "name": "stdout",
     "output_type": "stream",
     "text": [
      "['Sunny', 'Warm', '?', 'Strong', '?', '?']\n"
     ]
    }
   ],
   "source": [
    "for i in range(len(final)):\n",
    "    for j in range(len(final_hypo)):\n",
    "        if final[i][j] != final_hypo[j]:\n",
    "            final_hypo[j] = '?' \n",
    "final_hypo.pop(-1)\n",
    "print(final_hypo)"
   ]
  },
  {
   "cell_type": "markdown",
   "id": "7d36d25b",
   "metadata": {},
   "source": [
    "### Candidate Elimination Algorithm: Generic Algorithm"
   ]
  },
  {
   "cell_type": "code",
   "execution_count": 7,
   "id": "3fa683e3",
   "metadata": {},
   "outputs": [
    {
     "data": {
      "text/plain": [
       "[['Sunny', 'Warm', 'Normal', 'Strong', 'Warm ', 'Same', 'Yes'],\n",
       " ['Sunny', 'Warm', 'High', 'Strong', 'Warm ', 'Same', 'Yes'],\n",
       " ['Rainy', 'Cold', 'High', 'Strong', 'Warm ', 'Change', 'No'],\n",
       " ['Sunny', 'Warm', 'High', 'Strong', 'Cool', 'Change', 'Yes']]"
      ]
     },
     "execution_count": 7,
     "metadata": {},
     "output_type": "execute_result"
    }
   ],
   "source": [
    "df = pd.read_csv('Prac1_EnjoySport.csv')\n",
    "data_values = df.values.tolist()\n",
    "data_values"
   ]
  },
  {
   "cell_type": "code",
   "execution_count": 8,
   "id": "b19f0c99",
   "metadata": {},
   "outputs": [
    {
     "data": {
      "text/plain": [
       "[['Rainy', 'Cold', 'High', 'Strong', 'Warm ', 'Change']]"
      ]
     },
     "execution_count": 8,
     "metadata": {},
     "output_type": "execute_result"
    }
   ],
   "source": [
    "final_list = []\n",
    "for i in range(len(data_values)):\n",
    "    if data_values[i][-1] == 'No':\n",
    "        final_list.append(data_values[i])\n",
    "final_list[0].pop(-1)\n",
    "final_list"
   ]
  },
  {
   "cell_type": "code",
   "execution_count": 9,
   "id": "3b574531",
   "metadata": {},
   "outputs": [
    {
     "data": {
      "text/plain": [
       "[['?', '?', '?', '?', '?', '?'],\n",
       " ['?', '?', '?', '?', '?', '?'],\n",
       " ['?', '?', '?', '?', '?', '?'],\n",
       " ['?', '?', '?', '?', '?', '?'],\n",
       " ['?', '?', '?', '?', '?', '?'],\n",
       " ['?', '?', '?', '?', '?', '?']]"
      ]
     },
     "execution_count": 9,
     "metadata": {},
     "output_type": "execute_result"
    }
   ],
   "source": [
    "g = [['?','?','?','?','?','?'],['?','?','?','?','?','?'],['?','?','?','?','?','?']\n",
    "    ,['?','?','?','?','?','?'],['?','?','?','?','?','?'],['?','?','?','?','?','?']]\n",
    "g"
   ]
  },
  {
   "cell_type": "code",
   "execution_count": 10,
   "id": "faacbbbb",
   "metadata": {},
   "outputs": [
    {
     "name": "stdout",
     "output_type": "stream",
     "text": [
      "[['Sunny', '?', '?', '?', '?', '?'], ['?', 'Warm', '?', '?', '?', '?'], ['?', '?', '?', '?', '?', '?'], ['?', '?', '?', '?', '?', '?'], ['?', '?', '?', '?', '?', '?'], ['?', '?', '?', '?', '?', '?']]\n"
     ]
    }
   ],
   "source": [
    "for j in range(len(final_hypo)):\n",
    "    if final_hypo[j] != '?':\n",
    "        if final_hypo[j] != final_list[0][j]:\n",
    "            g[j][j] = final[0][j]\n",
    "print(g)"
   ]
  },
  {
   "cell_type": "code",
   "execution_count": 11,
   "id": "34974f7e",
   "metadata": {},
   "outputs": [
    {
     "name": "stdout",
     "output_type": "stream",
     "text": [
      "The Final Output: \n",
      "Specific Hypothesis: ['Sunny', 'Warm', '?', 'Strong', '?', '?']\n",
      "Generic Hypothesis: [['Sunny', '?', '?', '?', '?', '?'], ['?', 'Warm', '?', '?', '?', '?'], ['?', '?', '?', '?', '?', '?'], ['?', '?', '?', '?', '?', '?'], ['?', '?', '?', '?', '?', '?'], ['?', '?', '?', '?', '?', '?']]\n"
     ]
    }
   ],
   "source": [
    "print('The Final Output: ')\n",
    "print(\"Specific Hypothesis:\", final_hypo)\n",
    "print(\"Generic Hypothesis:\",g)"
   ]
  }
 ],
 "metadata": {
  "kernelspec": {
   "display_name": "Python 3 (ipykernel)",
   "language": "python",
   "name": "python3"
  },
  "language_info": {
   "codemirror_mode": {
    "name": "ipython",
    "version": 3
   },
   "file_extension": ".py",
   "mimetype": "text/x-python",
   "name": "python",
   "nbconvert_exporter": "python",
   "pygments_lexer": "ipython3",
   "version": "3.9.12"
  }
 },
 "nbformat": 4,
 "nbformat_minor": 5
}
